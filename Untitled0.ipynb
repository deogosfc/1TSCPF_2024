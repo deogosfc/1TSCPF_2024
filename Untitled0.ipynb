{
  "nbformat": 4,
  "nbformat_minor": 0,
  "metadata": {
    "colab": {
      "provenance": [],
      "authorship_tag": "ABX9TyMSWJCecIC7T/BULlQKLPMY",
      "include_colab_link": true
    },
    "kernelspec": {
      "name": "python3",
      "display_name": "Python 3"
    },
    "language_info": {
      "name": "python"
    }
  },
  "cells": [
    {
      "cell_type": "markdown",
      "metadata": {
        "id": "view-in-github",
        "colab_type": "text"
      },
      "source": [
        "<a href=\"https://colab.research.google.com/github/deogosfc/1TSCPF_2024/blob/main/Untitled0.ipynb\" target=\"_parent\"><img src=\"https://colab.research.google.com/assets/colab-badge.svg\" alt=\"Open In Colab\"/></a>"
      ]
    },
    {
      "cell_type": "code",
      "execution_count": 5,
      "metadata": {
        "colab": {
          "base_uri": "https://localhost:8080/"
        },
        "id": "eD_KJQSG3FKD",
        "outputId": "ed8177bd-78bb-405d-a3e8-0b0507330c65"
      },
      "outputs": [
        {
          "output_type": "stream",
          "name": "stdout",
          "text": [
            "      Menor Inter Maior       \n",
            "insira o 1 num:7\n",
            "insira o 2 num:5\n",
            "insira o 3 num:4\n",
            "Os numeros 7, 5, 4 são menor: 4, inter:5, maior:7\n"
          ]
        }
      ],
      "source": [
        "título = 'Menor Inter Maior'\n",
        "print (f'{título:^30}')\n",
        "\n",
        "n1 = int(input('insira o 1 num:'))\n",
        "n2 = int(input('insira o 2 num:'))\n",
        "n3 = int(input('insira o 3 num:'))\n",
        "\n",
        "\n",
        "print (f'Os numeros {n1}, {n2}, {n3}', end=' ')\n",
        "if n1>n2:\n",
        "  t = n1\n",
        "  n1 = n2\n",
        "  n2 = t\n",
        "\n",
        "if n1>n3:\n",
        "  t = n1\n",
        "  n1 = n3\n",
        "  n3 = t\n",
        "\n",
        "if n2> n3:\n",
        "  t = n2\n",
        "  n2 = n3\n",
        "  n3 = t\n",
        "\n",
        "\n",
        "print (f'são menor: {n1}, inter:{n2}, maior:{n3}')"
      ]
    },
    {
      "cell_type": "code",
      "source": [
        "if n1 > n2:\n",
        "  n1, n2 = n2, n1\n",
        "if n1 > n3:\n",
        "  n1, n3 = n3, n1\n",
        "if n2 > n3:\n",
        "  n2, n3 = n3, n2"
      ],
      "metadata": {
        "id": "v3KcldbQ-q_K"
      },
      "execution_count": null,
      "outputs": []
    }
  ]
}